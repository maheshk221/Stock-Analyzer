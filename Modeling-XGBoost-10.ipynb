{
 "cells": [
  {
   "cell_type": "markdown",
   "metadata": {},
   "source": [
    "# Modeling - XGBoost\n",
    "(Using the top **10** features)"
   ]
  },
  {
   "cell_type": "markdown",
   "metadata": {},
   "source": [
    "### Importing the libraries and Data"
   ]
  },
  {
   "cell_type": "code",
   "execution_count": 1,
   "metadata": {},
   "outputs": [],
   "source": [
    "import pandas as pd\n",
    "import numpy as np\n",
    "from sklearn.model_selection import train_test_split\n",
    "from sklearn.metrics import accuracy_score, confusion_matrix\n",
    "import matplotlib.pyplot as plt\n",
    "import _pickle as pickle"
   ]
  },
  {
   "cell_type": "code",
   "execution_count": 2,
   "metadata": {},
   "outputs": [],
   "source": [
    "with open(\"top10_df.pkl\", \"rb\") as fp:\n",
    "    df = pickle.load(fp)"
   ]
  },
  {
   "cell_type": "markdown",
   "metadata": {},
   "source": [
    "## Preparing the Data"
   ]
  },
  {
   "cell_type": "markdown",
   "metadata": {},
   "source": [
    "### Scaling the Data"
   ]
  },
  {
   "cell_type": "code",
   "execution_count": 3,
   "metadata": {},
   "outputs": [],
   "source": [
    "from sklearn.preprocessing import StandardScaler\n",
    "\n",
    "# Instantiating the scaler\n",
    "scaler = StandardScaler()\n",
    "\n",
    "# Scaling the features and not the class labels\n",
    "features_df = df.drop([\"Decision\"], 1)\n",
    "\n",
    "scaled_df = pd.DataFrame(scaler.fit_transform(features_df), \n",
    "                               index=features_df.index, \n",
    "                               columns=features_df.columns)\n",
    "\n",
    "# Reattaching the class labels back to the scaled data\n",
    "df = scaled_df.join(df.Decision)"
   ]
  },
  {
   "cell_type": "markdown",
   "metadata": {},
   "source": [
    "### Train, test, split the DF"
   ]
  },
  {
   "cell_type": "code",
   "execution_count": 22,
   "metadata": {},
   "outputs": [],
   "source": [
    "X = df.drop([\"Decision\"], 1)\n",
    "y = df.Decision\n",
    "\n",
    "# Train, test, split\n",
    "X_train, X_test, y_train, y_test = train_test_split(X, y, test_size=.2)"
   ]
  },
  {
   "cell_type": "markdown",
   "metadata": {},
   "source": [
    "### Functions"
   ]
  },
  {
   "cell_type": "code",
   "execution_count": 5,
   "metadata": {},
   "outputs": [],
   "source": [
    "def plot_confusion_matrix(y_true, y_pred, labels=[\"Sell\", \"Buy\", \"Hold\"], \n",
    "                          normalize=False, title=None, cmap=plt.cm.cividis):\n",
    "\n",
    "    cm = confusion_matrix(y_true, y_pred)\n",
    "    fig, ax = plt.subplots(figsize=(12,6))\n",
    "    im = ax.imshow(cm, interpolation='nearest', cmap=cmap)\n",
    "    ax.figure.colorbar(im, ax=ax)\n",
    "    # We want to show all ticks...\n",
    "    ax.set(xticks=np.arange(cm.shape[1]),\n",
    "           yticks=np.arange(cm.shape[0]),\n",
    "           # ... and label them with the respective list entries\n",
    "           xticklabels=labels, yticklabels=labels,\n",
    "           title=title,\n",
    "           ylabel='ACTUAL',\n",
    "           xlabel='PREDICTED')\n",
    "    # Rotate the tick labels and set their alignment.\n",
    "    plt.setp(ax.get_xticklabels(), rotation=45, ha=\"right\",\n",
    "             rotation_mode=\"anchor\")\n",
    "    # Loop over data dimensions and create text annotations.\n",
    "    fmt = '.2f' if normalize else 'd'\n",
    "    thresh = cm.max() / 2.\n",
    "    for i in range(cm.shape[0]):\n",
    "        for j in range(cm.shape[1]):\n",
    "            ax.text(j, i, format(cm[i, j], fmt),\n",
    "                    ha=\"center\", va=\"center\",\n",
    "                    color=\"crimson\" if cm[i, j] > thresh else \"crimson\",\n",
    "                    size=26)\n",
    "    ax.grid(False)\n",
    "    fig.tight_layout()\n",
    "    return ax"
   ]
  },
  {
   "cell_type": "code",
   "execution_count": 6,
   "metadata": {},
   "outputs": [],
   "source": [
    "def mod_results(clf, X_train, X_test, y_train, y_test):\n",
    "    \"\"\"\n",
    "    Displays the results of a fitted model with a Confusion Matrix\n",
    "    \"\"\"\n",
    "    # Getting predictions for the training set\n",
    "    train_preds = clf.predict(X_train)\n",
    "\n",
    "    # Getting predictions for the testing set\n",
    "    test_preds = clf.predict(X_test)\n",
    "\n",
    "    # Scores for both predictions\n",
    "    train_score = accuracy_score(y_train, train_preds)\n",
    "    test_score = accuracy_score(y_test, test_preds)\n",
    "\n",
    "    # Printing Results\n",
    "    print(f\"Training Accuracy: {train_score} \\t\\t Testing Accuracy: {test_score}\")\n",
    "    \n",
    "    # Displaying Confusion Matrix\n",
    "    plot_confusion_matrix(y_test, test_preds, title=\"Confusion Matrix\")\n",
    "    np.set_printoptions(precision=1)\n",
    "    \n",
    "    # Plot non-normalized confusion matrix\n",
    "    plt.show()"
   ]
  },
  {
   "cell_type": "markdown",
   "metadata": {},
   "source": [
    "## XGBoost Modeling"
   ]
  },
  {
   "cell_type": "code",
   "execution_count": 7,
   "metadata": {},
   "outputs": [],
   "source": [
    "# Preventing error from occuring: XGBoost causes kernel to die.\n",
    "import os\n",
    "os.environ['KMP_DUPLICATE_LIB_OK']='True'\n",
    "from xgboost import XGBClassifier\n",
    "import xgboost as xgb"
   ]
  },
  {
   "cell_type": "code",
   "execution_count": 8,
   "metadata": {},
   "outputs": [
    {
     "data": {
      "text/plain": [
       "XGBClassifier(base_score=0.5, booster='gbtree', colsample_bylevel=1,\n",
       "       colsample_bynode=1, colsample_bytree=1, gamma=0, learning_rate=0.1,\n",
       "       max_delta_step=0, max_depth=3, min_child_weight=1, missing=None,\n",
       "       n_estimators=100, n_jobs=1, nthread=None,\n",
       "       objective='multi:softprob', random_state=0, reg_alpha=0,\n",
       "       reg_lambda=1, scale_pos_weight=1, seed=None, silent=None,\n",
       "       subsample=1, verbosity=1)"
      ]
     },
     "execution_count": 8,
     "metadata": {},
     "output_type": "execute_result"
    }
   ],
   "source": [
    "# Instatiating the model classifier\n",
    "clf = xgb.XGBClassifier()\n",
    "\n",
    "# Fitting to the Data\n",
    "clf.fit(X_train, y_train)"
   ]
  },
  {
   "cell_type": "code",
   "execution_count": 9,
   "metadata": {},
   "outputs": [
    {
     "name": "stdout",
     "output_type": "stream",
     "text": [
      "XGBoost\n",
      "Training Accuracy: 0.48299760670123654 \t\t Testing Accuracy: 0.45154053245587794\n"
     ]
    },
    {
     "data": {
      "image/png": "[encoded data removed]",
      "text/plain": [
       "<Figure size 864x432 with 2 Axes>"
      ]
     },
     "metadata": {
      "needs_background": "light"
     },
     "output_type": "display_data"
    }
   ],
   "source": [
    "# Printing Results\n",
    "print(\"XGBoost\")\n",
    "\n",
    "# Modeling and Confusion Matrix\n",
    "mod_results(clf, X_train, X_test, y_train, y_test)"
   ]
  },
  {
   "cell_type": "markdown",
   "metadata": {},
   "source": [
    "## XGBoost - Results\n",
    "with the scaled top **10** features"
   ]
  },
  {
   "cell_type": "code",
   "execution_count": 10,
   "metadata": {},
   "outputs": [],
   "source": [
    "# XGBoost\n",
    "# Training Accuracy: 0.48299760670123654 \t\t Testing Accuracy: 0.45154053245587794"
   ]
  },
  {
   "cell_type": "markdown",
   "metadata": {},
   "source": [
    "### RandomizedSearchCV - XGBoost"
   ]
  },
  {
   "cell_type": "code",
   "execution_count": 9,
   "metadata": {},
   "outputs": [],
   "source": [
    "from sklearn.model_selection import RandomizedSearchCV"
   ]
  },
  {
   "cell_type": "code",
   "execution_count": 27,
   "metadata": {},
   "outputs": [],
   "source": [
    "# Parameters to search through\n",
    "params = {\"booster\": [\"gbtree\"],\n",
    "          \"eta\": [.1, .3, .6, .9],\n",
    "          \"gamma\": [0, 1],\n",
    "          \"n_estimators\": [50, 100, 200, 500],\n",
    "          \"grow_policy\": ['depthwise', 'lossguide']}"
   ]
  },
  {
   "cell_type": "code",
   "execution_count": 28,
   "metadata": {
    "scrolled": true
   },
   "outputs": [
    {
     "name": "stdout",
     "output_type": "stream",
     "text": [
      "Fitting 3 folds for each of 5 candidates, totalling 15 fits\n",
      "[CV] n_estimators=50, grow_policy=depthwise, gamma=1, eta=0.3, booster=gbtree \n"
     ]
    },
    {
     "name": "stderr",
     "output_type": "stream",
     "text": [
      "[Parallel(n_jobs=1)]: Using backend SequentialBackend with 1 concurrent workers.\n"
     ]
    },
    {
     "name": "stdout",
     "output_type": "stream",
     "text": [
      "[CV]  n_estimators=50, grow_policy=depthwise, gamma=1, eta=0.3, booster=gbtree, score=0.4450364554122266, total=   6.3s\n",
      "[CV] n_estimators=50, grow_policy=depthwise, gamma=1, eta=0.3, booster=gbtree \n"
     ]
    },
    {
     "name": "stderr",
     "output_type": "stream",
     "text": [
      "[Parallel(n_jobs=1)]: Done   1 out of   1 | elapsed:    6.5s remaining:    0.0s\n"
     ]
    },
    {
     "name": "stdout",
     "output_type": "stream",
     "text": [
      "[CV]  n_estimators=50, grow_policy=depthwise, gamma=1, eta=0.3, booster=gbtree, score=0.44523909690085545, total=   6.2s\n",
      "[CV] n_estimators=50, grow_policy=depthwise, gamma=1, eta=0.3, booster=gbtree \n"
     ]
    },
    {
     "name": "stderr",
     "output_type": "stream",
     "text": [
      "[Parallel(n_jobs=1)]: Done   2 out of   2 | elapsed:   12.9s remaining:    0.0s\n"
     ]
    },
    {
     "name": "stdout",
     "output_type": "stream",
     "text": [
      "[CV]  n_estimators=50, grow_policy=depthwise, gamma=1, eta=0.3, booster=gbtree, score=0.4468443197755961, total=   6.0s\n",
      "[CV] n_estimators=50, grow_policy=depthwise, gamma=1, eta=0.9, booster=gbtree \n"
     ]
    },
    {
     "name": "stderr",
     "output_type": "stream",
     "text": [
      "[Parallel(n_jobs=1)]: Done   3 out of   3 | elapsed:   19.0s remaining:    0.0s\n"
     ]
    },
    {
     "name": "stdout",
     "output_type": "stream",
     "text": [
      "[CV]  n_estimators=50, grow_policy=depthwise, gamma=1, eta=0.9, booster=gbtree, score=0.4450364554122266, total=   9.1s\n",
      "[CV] n_estimators=50, grow_policy=depthwise, gamma=1, eta=0.9, booster=gbtree \n"
     ]
    },
    {
     "name": "stderr",
     "output_type": "stream",
     "text": [
      "[Parallel(n_jobs=1)]: Done   4 out of   4 | elapsed:   28.4s remaining:    0.0s\n"
     ]
    },
    {
     "name": "stdout",
     "output_type": "stream",
     "text": [
      "[CV]  n_estimators=50, grow_policy=depthwise, gamma=1, eta=0.9, booster=gbtree, score=0.44523909690085545, total=   6.6s\n",
      "[CV] n_estimators=50, grow_policy=depthwise, gamma=1, eta=0.9, booster=gbtree \n",
      "[CV]  n_estimators=50, grow_policy=depthwise, gamma=1, eta=0.9, booster=gbtree, score=0.4468443197755961, total=   7.9s\n",
      "[CV] n_estimators=200, grow_policy=depthwise, gamma=0, eta=0.1, booster=gbtree \n",
      "[CV]  n_estimators=200, grow_policy=depthwise, gamma=0, eta=0.1, booster=gbtree, score=0.44447560291643295, total=  24.2s\n",
      "[CV] n_estimators=200, grow_policy=depthwise, gamma=0, eta=0.1, booster=gbtree \n",
      "[CV]  n_estimators=200, grow_policy=depthwise, gamma=0, eta=0.1, booster=gbtree, score=0.44215397559949515, total=  24.4s\n",
      "[CV] n_estimators=200, grow_policy=depthwise, gamma=0, eta=0.1, booster=gbtree \n",
      "[CV]  n_estimators=200, grow_policy=depthwise, gamma=0, eta=0.1, booster=gbtree, score=0.44754558204768585, total=  27.2s\n",
      "[CV] n_estimators=50, grow_policy=depthwise, gamma=0, eta=0.1, booster=gbtree \n",
      "[CV]  n_estimators=50, grow_policy=depthwise, gamma=0, eta=0.1, booster=gbtree, score=0.4448962422882782, total=   6.4s\n",
      "[CV] n_estimators=50, grow_policy=depthwise, gamma=0, eta=0.1, booster=gbtree \n",
      "[CV]  n_estimators=50, grow_policy=depthwise, gamma=0, eta=0.1, booster=gbtree, score=0.44523909690085545, total=   6.3s\n",
      "[CV] n_estimators=50, grow_policy=depthwise, gamma=0, eta=0.1, booster=gbtree \n",
      "[CV]  n_estimators=50, grow_policy=depthwise, gamma=0, eta=0.1, booster=gbtree, score=0.4479663394109397, total=   6.5s\n",
      "[CV] n_estimators=100, grow_policy=depthwise, gamma=0, eta=0.1, booster=gbtree \n",
      "[CV]  n_estimators=100, grow_policy=depthwise, gamma=0, eta=0.1, booster=gbtree, score=0.44447560291643295, total=  11.3s\n",
      "[CV] n_estimators=100, grow_policy=depthwise, gamma=0, eta=0.1, booster=gbtree \n",
      "[CV]  n_estimators=100, grow_policy=depthwise, gamma=0, eta=0.1, booster=gbtree, score=0.4443977001823026, total=  11.0s\n",
      "[CV] n_estimators=100, grow_policy=depthwise, gamma=0, eta=0.1, booster=gbtree \n",
      "[CV]  n_estimators=100, grow_policy=depthwise, gamma=0, eta=0.1, booster=gbtree, score=0.4485273492286115, total=  11.1s\n"
     ]
    },
    {
     "name": "stderr",
     "output_type": "stream",
     "text": [
      "[Parallel(n_jobs=1)]: Done  15 out of  15 | elapsed:  2.9min finished\n"
     ]
    },
    {
     "name": "stdout",
     "output_type": "stream",
     "text": [
      "Fitting 3 folds for each of 5 candidates, totalling 15 fits\n",
      "[CV] n_estimators=100, grow_policy=depthwise, gamma=0, eta=0.1, booster=gbtree \n"
     ]
    },
    {
     "name": "stderr",
     "output_type": "stream",
     "text": [
      "[Parallel(n_jobs=1)]: Using backend SequentialBackend with 1 concurrent workers.\n"
     ]
    },
    {
     "name": "stdout",
     "output_type": "stream",
     "text": [
      "[CV]  n_estimators=100, grow_policy=depthwise, gamma=0, eta=0.1, booster=gbtree, score=0.44447560291643295, total=  13.2s\n",
      "[CV] n_estimators=100, grow_policy=depthwise, gamma=0, eta=0.1, booster=gbtree \n"
     ]
    },
    {
     "name": "stderr",
     "output_type": "stream",
     "text": [
      "[Parallel(n_jobs=1)]: Done   1 out of   1 | elapsed:   13.5s remaining:    0.0s\n"
     ]
    },
    {
     "name": "stdout",
     "output_type": "stream",
     "text": [
      "[CV]  n_estimators=100, grow_policy=depthwise, gamma=0, eta=0.1, booster=gbtree, score=0.4443977001823026, total=  11.2s\n",
      "[CV] n_estimators=100, grow_policy=depthwise, gamma=0, eta=0.1, booster=gbtree \n"
     ]
    },
    {
     "name": "stderr",
     "output_type": "stream",
     "text": [
      "[Parallel(n_jobs=1)]: Done   2 out of   2 | elapsed:   25.1s remaining:    0.0s\n"
     ]
    },
    {
     "name": "stdout",
     "output_type": "stream",
     "text": [
      "[CV]  n_estimators=100, grow_policy=depthwise, gamma=0, eta=0.1, booster=gbtree, score=0.4485273492286115, total=  13.9s\n",
      "[CV] n_estimators=100, grow_policy=lossguide, gamma=0, eta=0.9, booster=gbtree \n"
     ]
    },
    {
     "name": "stderr",
     "output_type": "stream",
     "text": [
      "[Parallel(n_jobs=1)]: Done   3 out of   3 | elapsed:   39.3s remaining:    0.0s\n"
     ]
    },
    {
     "name": "stdout",
     "output_type": "stream",
     "text": [
      "[CV]  n_estimators=100, grow_policy=lossguide, gamma=0, eta=0.9, booster=gbtree, score=0.44447560291643295, total=  14.8s\n",
      "[CV] n_estimators=100, grow_policy=lossguide, gamma=0, eta=0.9, booster=gbtree \n"
     ]
    },
    {
     "name": "stderr",
     "output_type": "stream",
     "text": [
      "[Parallel(n_jobs=1)]: Done   4 out of   4 | elapsed:   54.3s remaining:    0.0s\n"
     ]
    },
    {
     "name": "stdout",
     "output_type": "stream",
     "text": [
      "[CV]  n_estimators=100, grow_policy=lossguide, gamma=0, eta=0.9, booster=gbtree, score=0.4443977001823026, total=  12.1s\n",
      "[CV] n_estimators=100, grow_policy=lossguide, gamma=0, eta=0.9, booster=gbtree \n",
      "[CV]  n_estimators=100, grow_policy=lossguide, gamma=0, eta=0.9, booster=gbtree, score=0.4485273492286115, total=  10.6s\n",
      "[CV] n_estimators=500, grow_policy=lossguide, gamma=0, eta=0.1, booster=gbtree \n",
      "[CV]  n_estimators=500, grow_policy=lossguide, gamma=0, eta=0.1, booster=gbtree, score=0.4364834548513741, total=  55.8s\n",
      "[CV] n_estimators=500, grow_policy=lossguide, gamma=0, eta=0.1, booster=gbtree \n",
      "[CV]  n_estimators=500, grow_policy=lossguide, gamma=0, eta=0.1, booster=gbtree, score=0.43850792315243303, total=  58.6s\n",
      "[CV] n_estimators=500, grow_policy=lossguide, gamma=0, eta=0.1, booster=gbtree \n",
      "[CV]  n_estimators=500, grow_policy=lossguide, gamma=0, eta=0.1, booster=gbtree, score=0.44137447405329594, total= 1.0min\n",
      "[CV] n_estimators=500, grow_policy=lossguide, gamma=1, eta=0.9, booster=gbtree \n",
      "[CV]  n_estimators=500, grow_policy=lossguide, gamma=1, eta=0.9, booster=gbtree, score=0.4406898485698261, total= 1.0min\n",
      "[CV] n_estimators=500, grow_policy=lossguide, gamma=1, eta=0.9, booster=gbtree \n",
      "[CV]  n_estimators=500, grow_policy=lossguide, gamma=1, eta=0.9, booster=gbtree, score=0.4431356051044734, total= 1.1min\n",
      "[CV] n_estimators=500, grow_policy=lossguide, gamma=1, eta=0.9, booster=gbtree \n",
      "[CV]  n_estimators=500, grow_policy=lossguide, gamma=1, eta=0.9, booster=gbtree, score=0.44922861150070126, total= 1.1min\n",
      "[CV] n_estimators=100, grow_policy=lossguide, gamma=1, eta=0.9, booster=gbtree \n",
      "[CV]  n_estimators=100, grow_policy=lossguide, gamma=1, eta=0.9, booster=gbtree, score=0.4443353897924846, total=  15.1s\n",
      "[CV] n_estimators=100, grow_policy=lossguide, gamma=1, eta=0.9, booster=gbtree \n",
      "[CV]  n_estimators=100, grow_policy=lossguide, gamma=1, eta=0.9, booster=gbtree, score=0.44594026083298277, total=  13.6s\n",
      "[CV] n_estimators=100, grow_policy=lossguide, gamma=1, eta=0.9, booster=gbtree \n",
      "[CV]  n_estimators=100, grow_policy=lossguide, gamma=1, eta=0.9, booster=gbtree, score=0.44866760168302944, total=  13.5s\n"
     ]
    },
    {
     "name": "stderr",
     "output_type": "stream",
     "text": [
      "[Parallel(n_jobs=1)]: Done  15 out of  15 | elapsed:  8.3min finished\n"
     ]
    },
    {
     "name": "stdout",
     "output_type": "stream",
     "text": [
      "Fitting 3 folds for each of 5 candidates, totalling 15 fits\n",
      "[CV] n_estimators=50, grow_policy=depthwise, gamma=1, eta=0.6, booster=gbtree \n"
     ]
    },
    {
     "name": "stderr",
     "output_type": "stream",
     "text": [
      "[Parallel(n_jobs=1)]: Using backend SequentialBackend with 1 concurrent workers.\n"
     ]
    },
    {
     "name": "stdout",
     "output_type": "stream",
     "text": [
      "[CV]  n_estimators=50, grow_policy=depthwise, gamma=1, eta=0.6, booster=gbtree, score=0.4450364554122266, total=   6.4s\n",
      "[CV] n_estimators=50, grow_policy=depthwise, gamma=1, eta=0.6, booster=gbtree \n"
     ]
    },
    {
     "name": "stderr",
     "output_type": "stream",
     "text": [
      "[Parallel(n_jobs=1)]: Done   1 out of   1 | elapsed:    6.5s remaining:    0.0s\n"
     ]
    },
    {
     "name": "stdout",
     "output_type": "stream",
     "text": [
      "[CV]  n_estimators=50, grow_policy=depthwise, gamma=1, eta=0.6, booster=gbtree, score=0.44523909690085545, total=   6.6s\n",
      "[CV] n_estimators=50, grow_policy=depthwise, gamma=1, eta=0.6, booster=gbtree \n"
     ]
    },
    {
     "name": "stderr",
     "output_type": "stream",
     "text": [
      "[Parallel(n_jobs=1)]: Done   2 out of   2 | elapsed:   13.5s remaining:    0.0s\n"
     ]
    },
    {
     "name": "stdout",
     "output_type": "stream",
     "text": [
      "[CV]  n_estimators=50, grow_policy=depthwise, gamma=1, eta=0.6, booster=gbtree, score=0.4468443197755961, total=   6.0s\n",
      "[CV] n_estimators=500, grow_policy=depthwise, gamma=0, eta=0.6, booster=gbtree \n"
     ]
    },
    {
     "name": "stderr",
     "output_type": "stream",
     "text": [
      "[Parallel(n_jobs=1)]: Done   3 out of   3 | elapsed:   19.8s remaining:    0.0s\n"
     ]
    },
    {
     "name": "stdout",
     "output_type": "stream",
     "text": [
      "[CV]  n_estimators=500, grow_policy=depthwise, gamma=0, eta=0.6, booster=gbtree, score=0.4364834548513741, total= 1.1min\n",
      "[CV] n_estimators=500, grow_policy=depthwise, gamma=0, eta=0.6, booster=gbtree \n"
     ]
    },
    {
     "name": "stderr",
     "output_type": "stream",
     "text": [
      "[Parallel(n_jobs=1)]: Done   4 out of   4 | elapsed:  1.4min remaining:    0.0s\n"
     ]
    },
    {
     "name": "stdout",
     "output_type": "stream",
     "text": [
      "[CV]  n_estimators=500, grow_policy=depthwise, gamma=0, eta=0.6, booster=gbtree, score=0.43850792315243303, total= 1.1min\n",
      "[CV] n_estimators=500, grow_policy=depthwise, gamma=0, eta=0.6, booster=gbtree \n",
      "[CV]  n_estimators=500, grow_policy=depthwise, gamma=0, eta=0.6, booster=gbtree, score=0.44137447405329594, total= 1.2min\n",
      "[CV] n_estimators=50, grow_policy=depthwise, gamma=1, eta=0.1, booster=gbtree \n",
      "[CV]  n_estimators=50, grow_policy=depthwise, gamma=1, eta=0.1, booster=gbtree, score=0.4450364554122266, total=   5.5s\n",
      "[CV] n_estimators=50, grow_policy=depthwise, gamma=1, eta=0.1, booster=gbtree \n",
      "[CV]  n_estimators=50, grow_policy=depthwise, gamma=1, eta=0.1, booster=gbtree, score=0.44523909690085545, total=   5.5s\n",
      "[CV] n_estimators=50, grow_policy=depthwise, gamma=1, eta=0.1, booster=gbtree \n",
      "[CV]  n_estimators=50, grow_policy=depthwise, gamma=1, eta=0.1, booster=gbtree, score=0.4468443197755961, total=   5.7s\n",
      "[CV] n_estimators=50, grow_policy=lossguide, gamma=1, eta=0.1, booster=gbtree \n",
      "[CV]  n_estimators=50, grow_policy=lossguide, gamma=1, eta=0.1, booster=gbtree, score=0.4450364554122266, total=   5.6s\n",
      "[CV] n_estimators=50, grow_policy=lossguide, gamma=1, eta=0.1, booster=gbtree \n",
      "[CV]  n_estimators=50, grow_policy=lossguide, gamma=1, eta=0.1, booster=gbtree, score=0.44523909690085545, total=   5.8s\n",
      "[CV] n_estimators=50, grow_policy=lossguide, gamma=1, eta=0.1, booster=gbtree \n",
      "[CV]  n_estimators=50, grow_policy=lossguide, gamma=1, eta=0.1, booster=gbtree, score=0.4468443197755961, total=   6.9s\n",
      "[CV] n_estimators=100, grow_policy=depthwise, gamma=0, eta=0.3, booster=gbtree \n",
      "[CV]  n_estimators=100, grow_policy=depthwise, gamma=0, eta=0.3, booster=gbtree, score=0.44447560291643295, total=  13.7s\n",
      "[CV] n_estimators=100, grow_policy=depthwise, gamma=0, eta=0.3, booster=gbtree \n",
      "[CV]  n_estimators=100, grow_policy=depthwise, gamma=0, eta=0.3, booster=gbtree, score=0.4443977001823026, total=  11.9s\n",
      "[CV] n_estimators=100, grow_policy=depthwise, gamma=0, eta=0.3, booster=gbtree \n",
      "[CV]  n_estimators=100, grow_policy=depthwise, gamma=0, eta=0.3, booster=gbtree, score=0.4485273492286115, total=  16.6s\n"
     ]
    },
    {
     "name": "stderr",
     "output_type": "stream",
     "text": [
      "[Parallel(n_jobs=1)]: Done  15 out of  15 | elapsed:  5.2min finished\n"
     ]
    },
    {
     "name": "stdout",
     "output_type": "stream",
     "text": [
      "Fitting 3 folds for each of 5 candidates, totalling 15 fits\n",
      "[CV] n_estimators=50, grow_policy=depthwise, gamma=1, eta=0.1, booster=gbtree \n"
     ]
    },
    {
     "name": "stderr",
     "output_type": "stream",
     "text": [
      "[Parallel(n_jobs=1)]: Using backend SequentialBackend with 1 concurrent workers.\n"
     ]
    },
    {
     "name": "stdout",
     "output_type": "stream",
     "text": [
      "[CV]  n_estimators=50, grow_policy=depthwise, gamma=1, eta=0.1, booster=gbtree, score=0.4450364554122266, total=   5.6s\n",
      "[CV] n_estimators=50, grow_policy=depthwise, gamma=1, eta=0.1, booster=gbtree \n"
     ]
    },
    {
     "name": "stderr",
     "output_type": "stream",
     "text": [
      "[Parallel(n_jobs=1)]: Done   1 out of   1 | elapsed:    5.7s remaining:    0.0s\n"
     ]
    },
    {
     "name": "stdout",
     "output_type": "stream",
     "text": [
      "[CV]  n_estimators=50, grow_policy=depthwise, gamma=1, eta=0.1, booster=gbtree, score=0.44523909690085545, total=   5.8s\n",
      "[CV] n_estimators=50, grow_policy=depthwise, gamma=1, eta=0.1, booster=gbtree \n"
     ]
    },
    {
     "name": "stderr",
     "output_type": "stream",
     "text": [
      "[Parallel(n_jobs=1)]: Done   2 out of   2 | elapsed:   11.6s remaining:    0.0s\n"
     ]
    },
    {
     "name": "stdout",
     "output_type": "stream",
     "text": [
      "[CV]  n_estimators=50, grow_policy=depthwise, gamma=1, eta=0.1, booster=gbtree, score=0.4468443197755961, total=   5.5s\n",
      "[CV] n_estimators=500, grow_policy=depthwise, gamma=1, eta=0.1, booster=gbtree \n"
     ]
    },
    {
     "name": "stderr",
     "output_type": "stream",
     "text": [
      "[Parallel(n_jobs=1)]: Done   3 out of   3 | elapsed:   17.3s remaining:    0.0s\n"
     ]
    },
    {
     "name": "stdout",
     "output_type": "stream",
     "text": [
      "[CV]  n_estimators=500, grow_policy=depthwise, gamma=1, eta=0.1, booster=gbtree, score=0.4406898485698261, total= 1.0min\n",
      "[CV] n_estimators=500, grow_policy=depthwise, gamma=1, eta=0.1, booster=gbtree \n"
     ]
    },
    {
     "name": "stderr",
     "output_type": "stream",
     "text": [
      "[Parallel(n_jobs=1)]: Done   4 out of   4 | elapsed:  1.3min remaining:    0.0s\n"
     ]
    },
    {
     "name": "stdout",
     "output_type": "stream",
     "text": [
      "[CV]  n_estimators=500, grow_policy=depthwise, gamma=1, eta=0.1, booster=gbtree, score=0.4431356051044734, total=  58.0s\n",
      "[CV] n_estimators=500, grow_policy=depthwise, gamma=1, eta=0.1, booster=gbtree \n",
      "[CV]  n_estimators=500, grow_policy=depthwise, gamma=1, eta=0.1, booster=gbtree, score=0.44922861150070126, total= 1.1min\n",
      "[CV] n_estimators=500, grow_policy=depthwise, gamma=1, eta=0.9, booster=gbtree \n",
      "[CV]  n_estimators=500, grow_policy=depthwise, gamma=1, eta=0.9, booster=gbtree, score=0.4406898485698261, total=  56.8s\n",
      "[CV] n_estimators=500, grow_policy=depthwise, gamma=1, eta=0.9, booster=gbtree \n",
      "[CV]  n_estimators=500, grow_policy=depthwise, gamma=1, eta=0.9, booster=gbtree, score=0.4431356051044734, total=  24.0s\n",
      "[CV] n_estimators=500, grow_policy=depthwise, gamma=1, eta=0.9, booster=gbtree \n",
      "[CV]  n_estimators=500, grow_policy=depthwise, gamma=1, eta=0.9, booster=gbtree, score=0.44922861150070126, total=  21.8s\n",
      "[CV] n_estimators=50, grow_policy=lossguide, gamma=1, eta=0.3, booster=gbtree \n",
      "[CV]  n_estimators=50, grow_policy=lossguide, gamma=1, eta=0.3, booster=gbtree, score=0.4450364554122266, total=   2.4s\n",
      "[CV] n_estimators=50, grow_policy=lossguide, gamma=1, eta=0.3, booster=gbtree \n",
      "[CV]  n_estimators=50, grow_policy=lossguide, gamma=1, eta=0.3, booster=gbtree, score=0.44523909690085545, total=   2.9s\n",
      "[CV] n_estimators=50, grow_policy=lossguide, gamma=1, eta=0.3, booster=gbtree \n",
      "[CV]  n_estimators=50, grow_policy=lossguide, gamma=1, eta=0.3, booster=gbtree, score=0.4468443197755961, total=   2.8s\n",
      "[CV] n_estimators=100, grow_policy=depthwise, gamma=1, eta=0.9, booster=gbtree \n",
      "[CV]  n_estimators=100, grow_policy=depthwise, gamma=1, eta=0.9, booster=gbtree, score=0.4443353897924846, total=   4.5s\n",
      "[CV] n_estimators=100, grow_policy=depthwise, gamma=1, eta=0.9, booster=gbtree \n",
      "[CV]  n_estimators=100, grow_policy=depthwise, gamma=1, eta=0.9, booster=gbtree, score=0.44594026083298277, total=   5.0s\n",
      "[CV] n_estimators=100, grow_policy=depthwise, gamma=1, eta=0.9, booster=gbtree \n",
      "[CV]  n_estimators=100, grow_policy=depthwise, gamma=1, eta=0.9, booster=gbtree, score=0.44866760168302944, total=   4.7s\n"
     ]
    },
    {
     "name": "stderr",
     "output_type": "stream",
     "text": [
      "[Parallel(n_jobs=1)]: Done  15 out of  15 | elapsed:  5.5min finished\n"
     ]
    },
    {
     "name": "stdout",
     "output_type": "stream",
     "text": [
      "Fitting 3 folds for each of 5 candidates, totalling 15 fits\n",
      "[CV] n_estimators=500, grow_policy=depthwise, gamma=1, eta=0.9, booster=gbtree \n"
     ]
    },
    {
     "name": "stderr",
     "output_type": "stream",
     "text": [
      "[Parallel(n_jobs=1)]: Using backend SequentialBackend with 1 concurrent workers.\n"
     ]
    },
    {
     "name": "stdout",
     "output_type": "stream",
     "text": [
      "[CV]  n_estimators=500, grow_policy=depthwise, gamma=1, eta=0.9, booster=gbtree, score=0.4406898485698261, total=  22.6s\n",
      "[CV] n_estimators=500, grow_policy=depthwise, gamma=1, eta=0.9, booster=gbtree \n"
     ]
    },
    {
     "name": "stderr",
     "output_type": "stream",
     "text": [
      "[Parallel(n_jobs=1)]: Done   1 out of   1 | elapsed:   23.0s remaining:    0.0s\n"
     ]
    },
    {
     "name": "stdout",
     "output_type": "stream",
     "text": [
      "[CV]  n_estimators=500, grow_policy=depthwise, gamma=1, eta=0.9, booster=gbtree, score=0.4431356051044734, total=  22.1s\n",
      "[CV] n_estimators=500, grow_policy=depthwise, gamma=1, eta=0.9, booster=gbtree \n"
     ]
    },
    {
     "name": "stderr",
     "output_type": "stream",
     "text": [
      "[Parallel(n_jobs=1)]: Done   2 out of   2 | elapsed:   45.7s remaining:    0.0s\n"
     ]
    },
    {
     "name": "stdout",
     "output_type": "stream",
     "text": [
      "[CV]  n_estimators=500, grow_policy=depthwise, gamma=1, eta=0.9, booster=gbtree, score=0.44922861150070126, total=  22.6s\n",
      "[CV] n_estimators=50, grow_policy=lossguide, gamma=0, eta=0.1, booster=gbtree \n"
     ]
    },
    {
     "name": "stderr",
     "output_type": "stream",
     "text": [
      "[Parallel(n_jobs=1)]: Done   3 out of   3 | elapsed:  1.1min remaining:    0.0s\n"
     ]
    },
    {
     "name": "stdout",
     "output_type": "stream",
     "text": [
      "[CV]  n_estimators=50, grow_policy=lossguide, gamma=0, eta=0.1, booster=gbtree, score=0.4448962422882782, total=   2.4s\n",
      "[CV] n_estimators=50, grow_policy=lossguide, gamma=0, eta=0.1, booster=gbtree \n"
     ]
    },
    {
     "name": "stderr",
     "output_type": "stream",
     "text": [
      "[Parallel(n_jobs=1)]: Done   4 out of   4 | elapsed:  1.2min remaining:    0.0s\n"
     ]
    },
    {
     "name": "stdout",
     "output_type": "stream",
     "text": [
      "[CV]  n_estimators=50, grow_policy=lossguide, gamma=0, eta=0.1, booster=gbtree, score=0.44523909690085545, total=   2.4s\n",
      "[CV] n_estimators=50, grow_policy=lossguide, gamma=0, eta=0.1, booster=gbtree \n",
      "[CV]  n_estimators=50, grow_policy=lossguide, gamma=0, eta=0.1, booster=gbtree, score=0.4479663394109397, total=   2.5s\n",
      "[CV] n_estimators=100, grow_policy=depthwise, gamma=0, eta=0.6, booster=gbtree \n",
      "[CV]  n_estimators=100, grow_policy=depthwise, gamma=0, eta=0.6, booster=gbtree, score=0.44447560291643295, total=   5.3s\n",
      "[CV] n_estimators=100, grow_policy=depthwise, gamma=0, eta=0.6, booster=gbtree \n",
      "[CV]  n_estimators=100, grow_policy=depthwise, gamma=0, eta=0.6, booster=gbtree, score=0.4443977001823026, total=   4.8s\n",
      "[CV] n_estimators=100, grow_policy=depthwise, gamma=0, eta=0.6, booster=gbtree \n",
      "[CV]  n_estimators=100, grow_policy=depthwise, gamma=0, eta=0.6, booster=gbtree, score=0.4485273492286115, total=   4.9s\n",
      "[CV] n_estimators=500, grow_policy=lossguide, gamma=0, eta=0.1, booster=gbtree \n",
      "[CV]  n_estimators=500, grow_policy=lossguide, gamma=0, eta=0.1, booster=gbtree, score=0.4364834548513741, total=  23.4s\n",
      "[CV] n_estimators=500, grow_policy=lossguide, gamma=0, eta=0.1, booster=gbtree \n",
      "[CV]  n_estimators=500, grow_policy=lossguide, gamma=0, eta=0.1, booster=gbtree, score=0.43850792315243303, total=  53.7s\n",
      "[CV] n_estimators=500, grow_policy=lossguide, gamma=0, eta=0.1, booster=gbtree \n",
      "[CV]  n_estimators=500, grow_policy=lossguide, gamma=0, eta=0.1, booster=gbtree, score=0.44137447405329594, total= 1.1min\n",
      "[CV] n_estimators=500, grow_policy=depthwise, gamma=1, eta=0.6, booster=gbtree \n",
      "[CV]  n_estimators=500, grow_policy=depthwise, gamma=1, eta=0.6, booster=gbtree, score=0.4406898485698261, total= 1.0min\n",
      "[CV] n_estimators=500, grow_policy=depthwise, gamma=1, eta=0.6, booster=gbtree \n",
      "[CV]  n_estimators=500, grow_policy=depthwise, gamma=1, eta=0.6, booster=gbtree, score=0.4431356051044734, total= 1.0min\n",
      "[CV] n_estimators=500, grow_policy=depthwise, gamma=1, eta=0.6, booster=gbtree \n",
      "[CV]  n_estimators=500, grow_policy=depthwise, gamma=1, eta=0.6, booster=gbtree, score=0.44922861150070126, total= 1.2min\n"
     ]
    },
    {
     "name": "stderr",
     "output_type": "stream",
     "text": [
      "[Parallel(n_jobs=1)]: Done  15 out of  15 | elapsed:  7.3min finished\n"
     ]
    },
    {
     "name": "stdout",
     "output_type": "stream",
     "text": [
      "Fitting 3 folds for each of 5 candidates, totalling 15 fits\n",
      "[CV] n_estimators=50, grow_policy=depthwise, gamma=1, eta=0.6, booster=gbtree \n"
     ]
    },
    {
     "name": "stderr",
     "output_type": "stream",
     "text": [
      "[Parallel(n_jobs=1)]: Using backend SequentialBackend with 1 concurrent workers.\n"
     ]
    },
    {
     "name": "stdout",
     "output_type": "stream",
     "text": [
      "[CV]  n_estimators=50, grow_policy=depthwise, gamma=1, eta=0.6, booster=gbtree, score=0.4450364554122266, total=   7.5s\n",
      "[CV] n_estimators=50, grow_policy=depthwise, gamma=1, eta=0.6, booster=gbtree \n"
     ]
    },
    {
     "name": "stderr",
     "output_type": "stream",
     "text": [
      "[Parallel(n_jobs=1)]: Done   1 out of   1 | elapsed:    7.6s remaining:    0.0s\n"
     ]
    },
    {
     "name": "stdout",
     "output_type": "stream",
     "text": [
      "[CV]  n_estimators=50, grow_policy=depthwise, gamma=1, eta=0.6, booster=gbtree, score=0.44523909690085545, total=   6.9s\n",
      "[CV] n_estimators=50, grow_policy=depthwise, gamma=1, eta=0.6, booster=gbtree \n"
     ]
    },
    {
     "name": "stderr",
     "output_type": "stream",
     "text": [
      "[Parallel(n_jobs=1)]: Done   2 out of   2 | elapsed:   14.8s remaining:    0.0s\n"
     ]
    },
    {
     "name": "stdout",
     "output_type": "stream",
     "text": [
      "[CV]  n_estimators=50, grow_policy=depthwise, gamma=1, eta=0.6, booster=gbtree, score=0.4468443197755961, total=   6.8s\n",
      "[CV] n_estimators=50, grow_policy=lossguide, gamma=0, eta=0.1, booster=gbtree \n"
     ]
    },
    {
     "name": "stderr",
     "output_type": "stream",
     "text": [
      "[Parallel(n_jobs=1)]: Done   3 out of   3 | elapsed:   21.7s remaining:    0.0s\n"
     ]
    },
    {
     "name": "stdout",
     "output_type": "stream",
     "text": [
      "[CV]  n_estimators=50, grow_policy=lossguide, gamma=0, eta=0.1, booster=gbtree, score=0.4448962422882782, total=   7.4s\n",
      "[CV] n_estimators=50, grow_policy=lossguide, gamma=0, eta=0.1, booster=gbtree \n"
     ]
    },
    {
     "name": "stderr",
     "output_type": "stream",
     "text": [
      "[Parallel(n_jobs=1)]: Done   4 out of   4 | elapsed:   29.3s remaining:    0.0s\n"
     ]
    },
    {
     "name": "stdout",
     "output_type": "stream",
     "text": [
      "[CV]  n_estimators=50, grow_policy=lossguide, gamma=0, eta=0.1, booster=gbtree, score=0.44523909690085545, total=   6.8s\n",
      "[CV] n_estimators=50, grow_policy=lossguide, gamma=0, eta=0.1, booster=gbtree \n",
      "[CV]  n_estimators=50, grow_policy=lossguide, gamma=0, eta=0.1, booster=gbtree, score=0.4479663394109397, total=   6.5s\n",
      "[CV] n_estimators=500, grow_policy=lossguide, gamma=1, eta=0.6, booster=gbtree \n",
      "[CV]  n_estimators=500, grow_policy=lossguide, gamma=1, eta=0.6, booster=gbtree, score=0.4406898485698261, total= 1.0min\n",
      "[CV] n_estimators=500, grow_policy=lossguide, gamma=1, eta=0.6, booster=gbtree \n",
      "[CV]  n_estimators=500, grow_policy=lossguide, gamma=1, eta=0.6, booster=gbtree, score=0.4431356051044734, total= 1.0min\n",
      "[CV] n_estimators=500, grow_policy=lossguide, gamma=1, eta=0.6, booster=gbtree \n",
      "[CV]  n_estimators=500, grow_policy=lossguide, gamma=1, eta=0.6, booster=gbtree, score=0.44922861150070126, total= 1.1min\n",
      "[CV] n_estimators=50, grow_policy=lossguide, gamma=1, eta=0.9, booster=gbtree \n",
      "[CV]  n_estimators=50, grow_policy=lossguide, gamma=1, eta=0.9, booster=gbtree, score=0.4450364554122266, total=   6.7s\n",
      "[CV] n_estimators=50, grow_policy=lossguide, gamma=1, eta=0.9, booster=gbtree \n",
      "[CV]  n_estimators=50, grow_policy=lossguide, gamma=1, eta=0.9, booster=gbtree, score=0.44523909690085545, total=   6.4s\n",
      "[CV] n_estimators=50, grow_policy=lossguide, gamma=1, eta=0.9, booster=gbtree \n",
      "[CV]  n_estimators=50, grow_policy=lossguide, gamma=1, eta=0.9, booster=gbtree, score=0.4468443197755961, total=   6.7s\n",
      "[CV] n_estimators=100, grow_policy=lossguide, gamma=1, eta=0.6, booster=gbtree \n",
      "[CV]  n_estimators=100, grow_policy=lossguide, gamma=1, eta=0.6, booster=gbtree, score=0.4443353897924846, total=  13.4s\n",
      "[CV] n_estimators=100, grow_policy=lossguide, gamma=1, eta=0.6, booster=gbtree \n",
      "[CV]  n_estimators=100, grow_policy=lossguide, gamma=1, eta=0.6, booster=gbtree, score=0.44594026083298277, total=  12.8s\n",
      "[CV] n_estimators=100, grow_policy=lossguide, gamma=1, eta=0.6, booster=gbtree \n",
      "[CV]  n_estimators=100, grow_policy=lossguide, gamma=1, eta=0.6, booster=gbtree, score=0.44866760168302944, total=  12.9s\n"
     ]
    },
    {
     "name": "stderr",
     "output_type": "stream",
     "text": [
      "[Parallel(n_jobs=1)]: Done  15 out of  15 | elapsed:  4.9min finished\n"
     ]
    },
    {
     "name": "stdout",
     "output_type": "stream",
     "text": [
      "Fitting 3 folds for each of 5 candidates, totalling 15 fits\n",
      "[CV] n_estimators=200, grow_policy=lossguide, gamma=0, eta=0.3, booster=gbtree \n"
     ]
    },
    {
     "name": "stderr",
     "output_type": "stream",
     "text": [
      "[Parallel(n_jobs=1)]: Using backend SequentialBackend with 1 concurrent workers.\n"
     ]
    },
    {
     "name": "stdout",
     "output_type": "stream",
     "text": [
      "[CV]  n_estimators=200, grow_policy=lossguide, gamma=0, eta=0.3, booster=gbtree, score=0.44447560291643295, total=  28.9s\n",
      "[CV] n_estimators=200, grow_policy=lossguide, gamma=0, eta=0.3, booster=gbtree \n"
     ]
    },
    {
     "name": "stderr",
     "output_type": "stream",
     "text": [
      "[Parallel(n_jobs=1)]: Done   1 out of   1 | elapsed:   29.7s remaining:    0.0s\n"
     ]
    },
    {
     "name": "stdout",
     "output_type": "stream",
     "text": [
      "[CV]  n_estimators=200, grow_policy=lossguide, gamma=0, eta=0.3, booster=gbtree, score=0.44215397559949515, total=  27.4s\n",
      "[CV] n_estimators=200, grow_policy=lossguide, gamma=0, eta=0.3, booster=gbtree \n"
     ]
    },
    {
     "name": "stderr",
     "output_type": "stream",
     "text": [
      "[Parallel(n_jobs=1)]: Done   2 out of   2 | elapsed:   57.7s remaining:    0.0s\n"
     ]
    },
    {
     "name": "stdout",
     "output_type": "stream",
     "text": [
      "[CV]  n_estimators=200, grow_policy=lossguide, gamma=0, eta=0.3, booster=gbtree, score=0.44754558204768585, total=  26.6s\n",
      "[CV] n_estimators=100, grow_policy=lossguide, gamma=1, eta=0.3, booster=gbtree \n"
     ]
    },
    {
     "name": "stderr",
     "output_type": "stream",
     "text": [
      "[Parallel(n_jobs=1)]: Done   3 out of   3 | elapsed:  1.4min remaining:    0.0s\n"
     ]
    },
    {
     "name": "stdout",
     "output_type": "stream",
     "text": [
      "[CV]  n_estimators=100, grow_policy=lossguide, gamma=1, eta=0.3, booster=gbtree, score=0.4443353897924846, total=  13.1s\n",
      "[CV] n_estimators=100, grow_policy=lossguide, gamma=1, eta=0.3, booster=gbtree \n"
     ]
    },
    {
     "name": "stderr",
     "output_type": "stream",
     "text": [
      "[Parallel(n_jobs=1)]: Done   4 out of   4 | elapsed:  1.6min remaining:    0.0s\n"
     ]
    },
    {
     "name": "stdout",
     "output_type": "stream",
     "text": [
      "[CV]  n_estimators=100, grow_policy=lossguide, gamma=1, eta=0.3, booster=gbtree, score=0.44594026083298277, total=  13.2s\n",
      "[CV] n_estimators=100, grow_policy=lossguide, gamma=1, eta=0.3, booster=gbtree \n",
      "[CV]  n_estimators=100, grow_policy=lossguide, gamma=1, eta=0.3, booster=gbtree, score=0.44866760168302944, total=  12.8s\n",
      "[CV] n_estimators=50, grow_policy=depthwise, gamma=0, eta=0.6, booster=gbtree \n",
      "[CV]  n_estimators=50, grow_policy=depthwise, gamma=0, eta=0.6, booster=gbtree, score=0.4448962422882782, total=   6.8s\n",
      "[CV] n_estimators=50, grow_policy=depthwise, gamma=0, eta=0.6, booster=gbtree \n",
      "[CV]  n_estimators=50, grow_policy=depthwise, gamma=0, eta=0.6, booster=gbtree, score=0.44523909690085545, total=   7.1s\n",
      "[CV] n_estimators=50, grow_policy=depthwise, gamma=0, eta=0.6, booster=gbtree \n",
      "[CV]  n_estimators=50, grow_policy=depthwise, gamma=0, eta=0.6, booster=gbtree, score=0.4479663394109397, total=   6.9s\n",
      "[CV] n_estimators=100, grow_policy=lossguide, gamma=0, eta=0.3, booster=gbtree \n",
      "[CV]  n_estimators=100, grow_policy=lossguide, gamma=0, eta=0.3, booster=gbtree, score=0.44447560291643295, total=  13.5s\n",
      "[CV] n_estimators=100, grow_policy=lossguide, gamma=0, eta=0.3, booster=gbtree \n",
      "[CV]  n_estimators=100, grow_policy=lossguide, gamma=0, eta=0.3, booster=gbtree, score=0.4443977001823026, total=  13.2s\n",
      "[CV] n_estimators=100, grow_policy=lossguide, gamma=0, eta=0.3, booster=gbtree \n",
      "[CV]  n_estimators=100, grow_policy=lossguide, gamma=0, eta=0.3, booster=gbtree, score=0.4485273492286115, total=  13.3s\n",
      "[CV] n_estimators=100, grow_policy=depthwise, gamma=1, eta=0.3, booster=gbtree \n",
      "[CV]  n_estimators=100, grow_policy=depthwise, gamma=1, eta=0.3, booster=gbtree, score=0.4443353897924846, total=  12.3s\n",
      "[CV] n_estimators=100, grow_policy=depthwise, gamma=1, eta=0.3, booster=gbtree \n",
      "[CV]  n_estimators=100, grow_policy=depthwise, gamma=1, eta=0.3, booster=gbtree, score=0.44594026083298277, total=  13.2s\n",
      "[CV] n_estimators=100, grow_policy=depthwise, gamma=1, eta=0.3, booster=gbtree \n",
      "[CV]  n_estimators=100, grow_policy=depthwise, gamma=1, eta=0.3, booster=gbtree, score=0.44866760168302944, total=  13.7s\n"
     ]
    },
    {
     "name": "stderr",
     "output_type": "stream",
     "text": [
      "[Parallel(n_jobs=1)]: Done  15 out of  15 | elapsed:  3.8min finished\n"
     ]
    },
    {
     "name": "stdout",
     "output_type": "stream",
     "text": [
      "Fitting 3 folds for each of 5 candidates, totalling 15 fits\n",
      "[CV] n_estimators=500, grow_policy=lossguide, gamma=1, eta=0.9, booster=gbtree \n"
     ]
    },
    {
     "name": "stderr",
     "output_type": "stream",
     "text": [
      "[Parallel(n_jobs=1)]: Using backend SequentialBackend with 1 concurrent workers.\n"
     ]
    },
    {
     "name": "stdout",
     "output_type": "stream",
     "text": [
      "[CV]  n_estimators=500, grow_policy=lossguide, gamma=1, eta=0.9, booster=gbtree, score=0.4406898485698261, total= 1.0min\n",
      "[CV] n_estimators=500, grow_policy=lossguide, gamma=1, eta=0.9, booster=gbtree \n"
     ]
    },
    {
     "name": "stderr",
     "output_type": "stream",
     "text": [
      "[Parallel(n_jobs=1)]: Done   1 out of   1 | elapsed:  1.1min remaining:    0.0s\n"
     ]
    },
    {
     "name": "stdout",
     "output_type": "stream",
     "text": [
      "[CV]  n_estimators=500, grow_policy=lossguide, gamma=1, eta=0.9, booster=gbtree, score=0.4431356051044734, total= 1.0min\n",
      "[CV] n_estimators=500, grow_policy=lossguide, gamma=1, eta=0.9, booster=gbtree \n"
     ]
    },
    {
     "name": "stderr",
     "output_type": "stream",
     "text": [
      "[Parallel(n_jobs=1)]: Done   2 out of   2 | elapsed:  2.1min remaining:    0.0s\n"
     ]
    },
    {
     "name": "stdout",
     "output_type": "stream",
     "text": [
      "[CV]  n_estimators=500, grow_policy=lossguide, gamma=1, eta=0.9, booster=gbtree, score=0.44922861150070126, total= 1.0min\n",
      "[CV] n_estimators=100, grow_policy=depthwise, gamma=1, eta=0.9, booster=gbtree \n"
     ]
    },
    {
     "name": "stderr",
     "output_type": "stream",
     "text": [
      "[Parallel(n_jobs=1)]: Done   3 out of   3 | elapsed:  3.2min remaining:    0.0s\n"
     ]
    },
    {
     "name": "stdout",
     "output_type": "stream",
     "text": [
      "[CV]  n_estimators=100, grow_policy=depthwise, gamma=1, eta=0.9, booster=gbtree, score=0.4443353897924846, total=  12.1s\n",
      "[CV] n_estimators=100, grow_policy=depthwise, gamma=1, eta=0.9, booster=gbtree \n"
     ]
    },
    {
     "name": "stderr",
     "output_type": "stream",
     "text": [
      "[Parallel(n_jobs=1)]: Done   4 out of   4 | elapsed:  3.4min remaining:    0.0s\n"
     ]
    },
    {
     "name": "stdout",
     "output_type": "stream",
     "text": [
      "[CV]  n_estimators=100, grow_policy=depthwise, gamma=1, eta=0.9, booster=gbtree, score=0.44594026083298277, total=  12.2s\n",
      "[CV] n_estimators=100, grow_policy=depthwise, gamma=1, eta=0.9, booster=gbtree \n",
      "[CV]  n_estimators=100, grow_policy=depthwise, gamma=1, eta=0.9, booster=gbtree, score=0.44866760168302944, total=  12.3s\n",
      "[CV] n_estimators=500, grow_policy=lossguide, gamma=1, eta=0.1, booster=gbtree \n",
      "[CV]  n_estimators=500, grow_policy=lossguide, gamma=1, eta=0.1, booster=gbtree, score=0.4406898485698261, total=  57.7s\n",
      "[CV] n_estimators=500, grow_policy=lossguide, gamma=1, eta=0.1, booster=gbtree \n",
      "[CV]  n_estimators=500, grow_policy=lossguide, gamma=1, eta=0.1, booster=gbtree, score=0.4431356051044734, total= 1.0min\n",
      "[CV] n_estimators=500, grow_policy=lossguide, gamma=1, eta=0.1, booster=gbtree \n",
      "[CV]  n_estimators=500, grow_policy=lossguide, gamma=1, eta=0.1, booster=gbtree, score=0.44922861150070126, total=  60.0s\n",
      "[CV] n_estimators=500, grow_policy=depthwise, gamma=1, eta=0.1, booster=gbtree \n",
      "[CV]  n_estimators=500, grow_policy=depthwise, gamma=1, eta=0.1, booster=gbtree, score=0.4406898485698261, total= 1.0min\n",
      "[CV] n_estimators=500, grow_policy=depthwise, gamma=1, eta=0.1, booster=gbtree \n",
      "[CV]  n_estimators=500, grow_policy=depthwise, gamma=1, eta=0.1, booster=gbtree, score=0.4431356051044734, total= 1.0min\n",
      "[CV] n_estimators=500, grow_policy=depthwise, gamma=1, eta=0.1, booster=gbtree \n",
      "[CV]  n_estimators=500, grow_policy=depthwise, gamma=1, eta=0.1, booster=gbtree, score=0.44922861150070126, total=  25.8s\n",
      "[CV] n_estimators=200, grow_policy=lossguide, gamma=1, eta=0.3, booster=gbtree \n",
      "[CV]  n_estimators=200, grow_policy=lossguide, gamma=1, eta=0.3, booster=gbtree, score=0.4404094223219293, total=   8.6s\n",
      "[CV] n_estimators=200, grow_policy=lossguide, gamma=1, eta=0.3, booster=gbtree \n",
      "[CV]  n_estimators=200, grow_policy=lossguide, gamma=1, eta=0.3, booster=gbtree, score=0.4435563034637498, total=   8.7s\n",
      "[CV] n_estimators=200, grow_policy=lossguide, gamma=1, eta=0.3, booster=gbtree \n",
      "[CV]  n_estimators=200, grow_policy=lossguide, gamma=1, eta=0.3, booster=gbtree, score=0.4488078541374474, total=   8.8s\n"
     ]
    },
    {
     "name": "stderr",
     "output_type": "stream",
     "text": [
      "[Parallel(n_jobs=1)]: Done  15 out of  15 | elapsed:  9.8min finished\n"
     ]
    },
    {
     "name": "stdout",
     "output_type": "stream",
     "text": [
      "6min 39s ± 1min 55s per loop (mean ± std. dev. of 7 runs, 1 loop each)\n"
     ]
    }
   ],
   "source": [
    "# Randomly implementing the parameters chosen\n",
    "ran_search = RandomizedSearchCV(clf, params, n_iter=5, cv=3, verbose=5)\n",
    "\n",
    "%timeit ran_search.fit(X_train, y_train)"
   ]
  },
  {
   "cell_type": "markdown",
   "metadata": {},
   "source": [
    "## Using tuned parameters on XGBoost"
   ]
  },
  {
   "cell_type": "code",
   "execution_count": 29,
   "metadata": {},
   "outputs": [
    {
     "name": "stderr",
     "output_type": "stream",
     "text": [
      "/anaconda3/lib/python3.7/site-packages/sklearn/utils/deprecation.py:125: FutureWarning: You are accessing a training score ('mean_train_score'), which will not be available by default any more in 0.21. If you need training scores, please set return_train_score=True\n",
      "  warnings.warn(*warn_args, **warn_kwargs)\n"
     ]
    },
    {
     "name": "stdout",
     "output_type": "stream",
     "text": [
      "Mean Training Score: 0.5115550515286592\n",
      "Mean Testing Score: 0.4781470574486982\n",
      "\n",
      "Best Parameter Found:\n"
     ]
    },
    {
     "data": {
      "text/plain": [
       "{'n_estimators': 100,\n",
       " 'grow_policy': 'depthwise',\n",
       " 'gamma': 1,\n",
       " 'eta': 0.9,\n",
       " 'booster': 'gbtree'}"
      ]
     },
     "execution_count": 29,
     "metadata": {},
     "output_type": "execute_result"
    }
   ],
   "source": [
    "# RandomizedSearchCV Results\n",
    "\n",
    "print(\"Mean Training Score:\", np.mean(ran_search.cv_results_['mean_train_score']))\n",
    "print(\"Mean Testing Score:\", ran_search.score(X_train, y_train))\n",
    "print(\"\\nBest Parameter Found:\")\n",
    "ran_search.best_params_"
   ]
  },
  {
   "cell_type": "code",
   "execution_count": 30,
   "metadata": {},
   "outputs": [
    {
     "name": "stdout",
     "output_type": "stream",
     "text": [
      "XGBoost with tuned Parameters\n",
      "Training Accuracy: 0.4781470574486982 \t\t Testing Accuracy: 0.4554122265844083\n"
     ]
    },
    {
     "data": {
      "image/png": "[encoded data removed]",
      "text/plain": [
       "<Figure size 864x432 with 2 Axes>"
      ]
     },
     "metadata": {
      "needs_background": "light"
     },
     "output_type": "display_data"
    }
   ],
   "source": [
    "# Instatiating the model classifier with GridSearch's best parameters\n",
    "clf = ran_search.best_estimator_\n",
    "\n",
    "# Fitting the model\n",
    "clf.fit(X_train, y_train)\n",
    "\n",
    "# Printing Results\n",
    "print(\"XGBoost with tuned Parameters\")\n",
    "mod_results(clf, X_train, X_test, y_train, y_test)"
   ]
  },
  {
   "cell_type": "markdown",
   "metadata": {},
   "source": [
    "#### Compared to both the Top 5 and Top 20 classifiers, selecting the top 10 remains the best option."
   ]
  },
  {
   "cell_type": "markdown",
   "metadata": {},
   "source": [
    "## Saving the Final Model"
   ]
  },
  {
   "cell_type": "code",
   "execution_count": 31,
   "metadata": {},
   "outputs": [
    {
     "data": {
      "text/plain": [
       "['classifier_model.joblib']"
      ]
     },
     "execution_count": 31,
     "metadata": {},
     "output_type": "execute_result"
    }
   ],
   "source": [
    "from joblib import dump\n",
    "\n",
    "dump(clf, \"classifier_model.joblib\")"
   ]
  },
  {
   "cell_type": "code",
   "execution_count": null,
   "metadata": {},
   "outputs": [],
   "source": []
  },
  {
   "cell_type": "code",
   "execution_count": null,
   "metadata": {},
   "outputs": [],
   "source": []
  }
 ],
 "metadata": {
  "kernelspec": {
   "display_name": "Python 3",
   "language": "python",
   "name": "python3"
  },
  "language_info": {
   "codemirror_mode": {
    "name": "ipython",
    "version": 3
   },
   "file_extension": ".py",
   "mimetype": "text/x-python",
   "name": "python",
   "nbconvert_exporter": "python",
   "pygments_lexer": "ipython3",
   "version": "3.7.3"
  }
 },
 "nbformat": 4,
 "nbformat_minor": 2
}
